{
 "cells": [
  {
   "cell_type": "code",
   "execution_count": 0,
   "metadata": {
    "application/vnd.databricks.v1+cell": {
     "cellMetadata": {
      "byteLimit": 2048000,
      "rowLimit": 10000
     },
     "inputWidgets": {},
     "nuid": "8f538461-adc8-4e9a-a5f6-3a59bce2455b",
     "showTitle": false,
     "tableResultSettingsMap": {},
     "title": ""
    }
   },
   "outputs": [],
   "source": [
    "import requests\n",
    "import json\n",
    "import datetime\n",
    "from pyspark.sql.functions import lit"
   ]
  },
  {
   "cell_type": "code",
   "execution_count": 0,
   "metadata": {
    "application/vnd.databricks.v1+cell": {
     "cellMetadata": {
      "byteLimit": 2048000,
      "rowLimit": 10000
     },
     "inputWidgets": {},
     "nuid": "2755f1cd-1782-4f85-869f-d90e9e065f0a",
     "showTitle": false,
     "tableResultSettingsMap": {},
     "title": ""
    }
   },
   "outputs": [],
   "source": [
    "storage_account = 'adlsprojetocotacao'"
   ]
  },
  {
   "cell_type": "code",
   "execution_count": 0,
   "metadata": {
    "application/vnd.databricks.v1+cell": {
     "cellMetadata": {
      "byteLimit": 2048000,
      "rowLimit": 10000
     },
     "inputWidgets": {},
     "nuid": "a3fed2db-f434-4ef7-82c1-fdc95419b122",
     "showTitle": false,
     "tableResultSettingsMap": {},
     "title": ""
    }
   },
   "outputs": [],
   "source": [
    "import urllib3\n",
    "urllib3.disable_warnings(urllib3.exceptions.InsecureRequestWarning)"
   ]
  },
  {
   "cell_type": "code",
   "execution_count": 0,
   "metadata": {
    "application/vnd.databricks.v1+cell": {
     "cellMetadata": {
      "byteLimit": 2048000,
      "rowLimit": 10000
     },
     "inputWidgets": {},
     "nuid": "6636c106-2d39-4ff6-ac80-b48f5f8bbc82",
     "showTitle": false,
     "tableResultSettingsMap": {},
     "title": ""
    }
   },
   "outputs": [],
   "source": [
    "df_moedas = spark.sql(\"SELECT DISTINCT Moeda FROM dim_moedas\")\n",
    "linhas = df_moedas.collect()\n",
    "lista_moedas = []\n",
    "\n",
    "for linha in linhas:\n",
    "    lista_moedas.append(linha.Moeda)\n",
    "\n",
    "print(lista_moedas)"
   ]
  },
  {
   "cell_type": "code",
   "execution_count": 0,
   "metadata": {
    "application/vnd.databricks.v1+cell": {
     "cellMetadata": {
      "byteLimit": 2048000,
      "rowLimit": 10000
     },
     "inputWidgets": {},
     "nuid": "e62e0c63-90af-4f13-8f81-6149cfb47983",
     "showTitle": false,
     "tableResultSettingsMap": {},
     "title": ""
    }
   },
   "outputs": [],
   "source": [
    "# Variáveis\n",
    "\n",
    "data_inicial = '01-02-2020'\n",
    "data_final = datetime.date.today().strftime('%m-%d-%Y')\n",
    "top = 100\n",
    "\n",
    "for moeda in lista_moedas:\n",
    "\n",
    "    skip = 0\n",
    "\n",
    "    todos_dados = []\n",
    "\n",
    "    while True:\n",
    "        url = (f\"https://olinda.bcb.gov.br/olinda/servico/PTAX/versao/v1/odata/\"\n",
    "            f\"CotacaoMoedaPeriodo(moeda=@moeda,dataInicial=@dataInicial,dataFinalCotacao=@dataFinalCotacao)?\"\n",
    "            f\"@moeda='{moeda}'&@dataInicial='{data_inicial}'&@dataFinalCotacao='{data_final}'\"\n",
    "            f\"&$top={top}&$skip={skip}&$filter=tipoBoletim%20eq%20'Fechamento'&$format=json&$select=cotacaoCompra,dataHoraCotacao\"\n",
    "            )\n",
    "        \n",
    "        response = requests.get(url, verify=False)\n",
    "\n",
    "        # Verifica se a resposta foi bem-sucedida (HTTP 200)\n",
    "        if response.status_code == 200:\n",
    "            try:\n",
    "                dados_json = response.json()\n",
    "                dados = dados_json.get('value', [])\n",
    "            except ValueError:\n",
    "                print(f\"❌ Erro ao decodificar JSON para a moeda {moeda} com skip={skip}\")\n",
    "                print(\"Conteúdo da resposta:\", response.text)\n",
    "                break\n",
    "        else:\n",
    "            print(f\"❌ Erro HTTP {response.status_code} para a moeda {moeda} com skip={skip}\")\n",
    "            print(\"URL usada:\", url)\n",
    "            break\n",
    "\n",
    "\n",
    "        if not dados:\n",
    "            break\n",
    "\n",
    "        todos_dados.extend(dados)\n",
    "\n",
    "        skip+=top\n",
    "\n",
    "    if todos_dados:\n",
    "        df = spark.createDataFrame(todos_dados) \\\n",
    "            .withColumn('moeda', lit(moeda))\n",
    "\n",
    "    data_inicial_path = datetime.datetime.strptime(data_inicial, '%m-%d-%Y').strftime('%Y-%m-%d')\n",
    "    data_final_path = datetime.datetime.strptime(data_final, '%m-%d-%Y').strftime('%Y-%m-%d')\n",
    "\n",
    "    path = (\n",
    "        f\"/mnt/{storage_account}/bronze/cotacoes/\"\n",
    "        f\"{moeda}_\"\n",
    "        f\"{data_inicial_path}_\"\n",
    "        f\"{data_final_path}\"\n",
    "        f\".parquet\"\n",
    "    )\n",
    "\n",
    "    df.write.mode('overwrite').parquet(path)"
   ]
  },
  {
   "cell_type": "code",
   "execution_count": 0,
   "metadata": {
    "application/vnd.databricks.v1+cell": {
     "cellMetadata": {
      "byteLimit": 2048000,
      "rowLimit": 10000
     },
     "inputWidgets": {},
     "nuid": "346cf1ce-f5b3-4789-8a88-5ce8f293b1ad",
     "showTitle": false,
     "tableResultSettingsMap": {},
     "title": ""
    }
   },
   "outputs": [],
   "source": [
    "files = dbutils.fs.ls(f\"/mnt/{storage_account}/bronze/cotacoes\")\n",
    "display(files)"
   ]
  }
 ],
 "metadata": {
  "application/vnd.databricks.v1+notebook": {
   "computePreferences": null,
   "dashboards": [],
   "environmentMetadata": {
    "base_environment": "",
    "environment_version": "2"
   },
   "inputWidgetPreferences": null,
   "language": "python",
   "notebookMetadata": {
    "pythonIndentUnit": 4
   },
   "notebookName": "cotacoes",
   "widgets": {}
  },
  "language_info": {
   "name": "python"
  }
 },
 "nbformat": 4,
 "nbformat_minor": 0
}
