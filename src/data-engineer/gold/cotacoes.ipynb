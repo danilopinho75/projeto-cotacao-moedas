{
 "cells": [
  {
   "cell_type": "code",
   "execution_count": 0,
   "metadata": {
    "application/vnd.databricks.v1+cell": {
     "cellMetadata": {
      "byteLimit": 2048000,
      "rowLimit": 10000
     },
     "inputWidgets": {},
     "nuid": "76666e16-eb2a-4e39-a24e-c33f96fef3bb",
     "showTitle": false,
     "tableResultSettingsMap": {},
     "title": ""
    }
   },
   "outputs": [],
   "source": [
    "storage_account = 'adlsprojetocotacao'"
   ]
  },
  {
   "cell_type": "code",
   "execution_count": 0,
   "metadata": {
    "application/vnd.databricks.v1+cell": {
     "cellMetadata": {
      "byteLimit": 2048000,
      "implicitDf": true,
      "rowLimit": 10000
     },
     "inputWidgets": {},
     "nuid": "0c4e5860-f174-40a8-bdbe-3556262e5a88",
     "showTitle": false,
     "tableResultSettingsMap": {},
     "title": ""
    }
   },
   "outputs": [],
   "source": [
    "\n",
    "spark.sql(\"\"\"\n",
    "    CREATE OR REPLACE TEMPORARY VIEW temp_cotacoes_gold AS\n",
    "    -- Extrai mínimas e máximas datas\n",
    "    WITH min_max AS (\n",
    "        SELECT MIN(Data) as min_data,\n",
    "            MAX(Data) as max_data\n",
    "        FROM silver.cotacoes\n",
    "    ),\n",
    "\n",
    "    -- Gera as sequências de datas\n",
    "    datas_periodo AS (\n",
    "        SELECT explode(\n",
    "            sequence(\n",
    "                d.min_data,\n",
    "                d.max_data,\n",
    "                interval 1 day\n",
    "            )\n",
    "        ) AS Data\n",
    "        FROM min_max d\n",
    "    ),\n",
    "\n",
    "    -- Moedas distintas\n",
    "    moedas AS (\n",
    "        SELECT DISTINCT Moeda\n",
    "        FROM dim_moedas\n",
    "    ),\n",
    "\n",
    "    -- Faz o plano cartesiano entre moedas e datas\n",
    "    cross_tb AS (\n",
    "        SELECT m.Moeda,\n",
    "            d.Data\n",
    "        FROM moedas m\n",
    "        CROSS JOIN datas_periodo d\n",
    "    ),\n",
    "\n",
    "    -- Dias sem cotações\n",
    "    datas_faltantes AS (\n",
    "        SELECT cr.Moeda, cr.Data\n",
    "        FROM cross_tb cr\n",
    "        LEFT JOIN (\n",
    "            SELECT DISTINCT Moeda, Data\n",
    "            FROM silver.cotacoes\n",
    "        ) c\n",
    "        ON cr.Moeda = c.Moeda AND cr.Data = c.Data\n",
    "        WHERE c.Data IS NULL\n",
    "    ),\n",
    "\n",
    "    -- Adiciona as linhas faltantes\n",
    "    linhas_adicionadas AS (\n",
    "        SELECT \n",
    "            dt_falt.Moeda, \n",
    "            dt_falt.Data, -- Corrigido para Data\n",
    "            NULL AS Cotacao -- Valores nulos para as cotações adicionadas\n",
    "        FROM datas_faltantes as dt_falt\n",
    "    ),\n",
    "\n",
    "    -- Combina cotações existentes com as linhas adicionadas\n",
    "    append AS (\n",
    "        SELECT\n",
    "            Moeda,\n",
    "            Data,\n",
    "            Cotacao\n",
    "        FROM silver.cotacoes\n",
    "\n",
    "        UNION ALL\n",
    "\n",
    "        SELECT \n",
    "            Data,\n",
    "            Moeda,\n",
    "            Cotacao\n",
    "        FROM linhas_adicionadas\n",
    "    ),\n",
    "\n",
    "    -- Forward fill: Preenche os valores de cotação para as novas linhas\n",
    "    forward_fill AS (\n",
    "    SELECT \n",
    "        Moeda,\n",
    "        Data,\n",
    "        last_value(Cotacao, true)\n",
    "            OVER(\n",
    "                PARTITION BY Moeda\n",
    "                ORDER BY Data\n",
    "                ROWS BETWEEN UNBOUNDED PRECEDING AND CURRENT ROW\n",
    "            ) AS Cotacao\n",
    "        FROM append\n",
    "        )\n",
    "\n",
    "    SELECT\n",
    "    Moeda,\n",
    "    Data,\n",
    "    Cotacao,\n",
    "    year(Data) AS Ano,\n",
    "    month(Data) AS Mes,\n",
    "    day(Data) AS Dia\n",
    "    FROM forward_fill\n",
    "    ORDER BY Data, Moeda\n",
    "\"\"\")"
   ]
  },
  {
   "cell_type": "code",
   "execution_count": 0,
   "metadata": {
    "application/vnd.databricks.v1+cell": {
     "cellMetadata": {
      "byteLimit": 2048000,
      "rowLimit": 10000
     },
     "inputWidgets": {},
     "nuid": "87b152c4-d2c5-4e67-872a-4a7930fc7e49",
     "showTitle": false,
     "tableResultSettingsMap": {},
     "title": ""
    }
   },
   "outputs": [],
   "source": [
    "spark.sql(\"\"\"\n",
    "    CREATE SCHEMA IF NOT EXISTS gold\n",
    "\"\"\")"
   ]
  },
  {
   "cell_type": "code",
   "execution_count": 0,
   "metadata": {
    "application/vnd.databricks.v1+cell": {
     "cellMetadata": {
      "byteLimit": 2048000,
      "rowLimit": 10000
     },
     "inputWidgets": {},
     "nuid": "14024d36-f5d0-42d5-9a52-b972f192c0e9",
     "showTitle": false,
     "tableResultSettingsMap": {},
     "title": ""
    }
   },
   "outputs": [],
   "source": [
    "# Criar tabela particionada por ano e mês para melhor performance\n",
    "spark.sql(\"\"\"\n",
    "    CREATE TABLE IF NOT EXISTS gold.fact_cotacoes (\n",
    "        Moeda STRING,\n",
    "        Data DATE,\n",
    "        Cotacao DOUBLE,\n",
    "        Ano INT,\n",
    "        Mes INT,\n",
    "        Dia INT\n",
    "    )\n",
    "    USING DELTA\n",
    "    PARTITIONED BY (Ano, Mes)\n",
    "    COMMENT 'Tabela de fatos com cotações históricas de moedas, incluindo preenchimento de valores faltantes (forward fill)'\n",
    "\"\"\")"
   ]
  },
  {
   "cell_type": "code",
   "execution_count": 0,
   "metadata": {
    "application/vnd.databricks.v1+cell": {
     "cellMetadata": {},
     "inputWidgets": {},
     "nuid": "da35d0cf-2ad2-4930-9eba-436258ed2210",
     "showTitle": false,
     "tableResultSettingsMap": {},
     "title": ""
    }
   },
   "outputs": [],
   "source": [
    "# Inserir os dados na tabela\n",
    "spark.sql(\"\"\"\n",
    "    INSERT OVERWRITE gold.fact_cotacoes\n",
    "    SELECT * FROM temp_cotacoes_gold         \n",
    "\"\"\")"
   ]
  }
 ],
 "metadata": {
  "application/vnd.databricks.v1+notebook": {
   "computePreferences": null,
   "dashboards": [],
   "environmentMetadata": {
    "base_environment": "",
    "environment_version": "2"
   },
   "inputWidgetPreferences": null,
   "language": "python",
   "notebookMetadata": {
    "mostRecentlyExecutedCommandWithImplicitDF": {
     "commandId": -1,
     "dataframes": [
      "_sqldf"
     ]
    },
    "pythonIndentUnit": 4
   },
   "notebookName": "cotacoes",
   "widgets": {}
  },
  "language_info": {
   "name": "python"
  }
 },
 "nbformat": 4,
 "nbformat_minor": 0
}
